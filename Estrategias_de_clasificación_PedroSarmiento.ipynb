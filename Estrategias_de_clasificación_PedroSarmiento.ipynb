{
 "cells": [
  {
   "cell_type": "markdown",
   "metadata": {},
   "source": [
    "**1.-¿Cómo se interpretan estas métricas cuanto la classificación es multiclase?**\n",
    "\n",
    "Las métricas se interpretan de igual manera se utilizan tanto en problemas de clasificación binaria como en problemas de clasificación multiclase. La principal diferencia en su aplicación radica en cómo se calculan y se interpretan en el contexto de clasificación binaria.\n",
    "\n",
    "En un problema de clasificación multiclase, estas métricas se calculan para cada clase individualmente y luego se pueden promediar para obtener una métrica global. \n"
   ]
  },
  {
   "cell_type": "markdown",
   "metadata": {},
   "source": [
    "**2.-Realiza la clasificación del dataset \"20 Newsgroups\". Para ello, usa el clasificador Naive Bayes y Regresión Logística. Compara los resultados obtenidos. Busca la configuración óptima de parámetros para cada clasificador. Intenta mejorar los resultados obtenidos con otros clasificadores que puedas encontrar en la librería Scikit-Learn. Reporta la mejor solución de todas.**"
   ]
  },
  {
   "cell_type": "code",
   "execution_count": 4,
   "metadata": {},
   "outputs": [],
   "source": [
    "from sklearn.datasets import fetch_20newsgroups\n",
    "from sklearn.model_selection import train_test_split\n",
    "from sklearn import metrics\n",
    "newsgroups_train = fetch_20newsgroups(subset='train',remove=('headers', 'footers', 'quotes'))\n",
    "\n",
    "newsgroups_test = fetch_20newsgroups(subset='test', remove=('headers', 'footers', 'quotes'))"
   ]
  },
  {
   "cell_type": "code",
   "execution_count": 5,
   "metadata": {},
   "outputs": [],
   "source": [
    "from sklearn.feature_extraction.text import TfidfVectorizer\n",
    "vectorizer = TfidfVectorizer()\n",
    "vectors = vectorizer.fit_transform(newsgroups_train.data)\n",
    "vectors_test = vectorizer.transform(newsgroups_test.data)"
   ]
  },
  {
   "cell_type": "code",
   "execution_count": 6,
   "metadata": {},
   "outputs": [
    {
     "name": "stdout",
     "output_type": "stream",
     "text": [
      "La puntuación de f1 para el dataset de 20newsgroup usando Naive-Bayes es:  0.683\n"
     ]
    }
   ],
   "source": [
    "#Aplicamos Naive-Bayes\n",
    "\n",
    "from sklearn.naive_bayes import MultinomialNB\n",
    "\n",
    "clf = MultinomialNB(alpha=.01)\n",
    "clf.fit(vectors, newsgroups_train.target)\n",
    "pred = clf.predict(vectors_test)\n",
    "print(\"La puntuación de f1 para el dataset de 20newsgroup usando Naive-Bayes es: \", metrics.f1_score(newsgroups_test.target, pred, average='macro').round(3))"
   ]
  },
  {
   "cell_type": "code",
   "execution_count": 7,
   "metadata": {},
   "outputs": [
    {
     "name": "stdout",
     "output_type": "stream",
     "text": [
      "La puntuación de la regresión logística es: 0.907\n"
     ]
    }
   ],
   "source": [
    "#Aplicamos una regresión logística\n",
    "\n",
    "from sklearn.linear_model import LogisticRegression\n",
    "clf = LogisticRegression(random_state=0).fit(vectors, newsgroups_train.target)\n",
    "pred = clf.predict(vectors_test)\n",
    "print(\"La puntuación de la regresión logística es:\", clf.score(vectors, newsgroups_train.target).round(3))"
   ]
  },
  {
   "cell_type": "code",
   "execution_count": 8,
   "metadata": {},
   "outputs": [
    {
     "name": "stdout",
     "output_type": "stream",
     "text": [
      "La puntuación de f1 para el dataset de 20newsgroup usando SVM es: 0.644\n"
     ]
    }
   ],
   "source": [
    "#Aplicamos SVM\n",
    "\n",
    "from sklearn.svm import SVC\n",
    "\n",
    "svm_classifier = SVC()\n",
    "svm_classifier.fit(vectors, newsgroups_train.target)\n",
    "svm_pred = svm_classifier.predict(vectors_test)\n",
    "svm_f1 = metrics.f1_score(newsgroups_test.target, svm_pred, average='macro').round(3)\n",
    "print(f\"La puntuación de f1 para el dataset de 20newsgroup usando SVM es: {svm_f1}\")"
   ]
  },
  {
   "cell_type": "markdown",
   "metadata": {},
   "source": [
    "La mejor solución la obtenemos aplicando una regresión logística, esto se debe a que para la clasificación de texto este método suele arrojar buenos resultados, esto puede deberse a que contamos con datos fácilmente separables de forma lineal."
   ]
  }
 ],
 "metadata": {
  "kernelspec": {
   "display_name": "Python 3",
   "language": "python",
   "name": "python3"
  },
  "language_info": {
   "codemirror_mode": {
    "name": "ipython",
    "version": 3
   },
   "file_extension": ".py",
   "mimetype": "text/x-python",
   "name": "python",
   "nbconvert_exporter": "python",
   "pygments_lexer": "ipython3",
   "version": "3.10.5"
  }
 },
 "nbformat": 4,
 "nbformat_minor": 2
}
